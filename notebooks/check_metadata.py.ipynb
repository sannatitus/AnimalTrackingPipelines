{
 "cells": [
  {
   "cell_type": "code",
   "execution_count": 2,
   "id": "ceaa2268",
   "metadata": {},
   "outputs": [],
   "source": [
    "# start coding here\n",
    "#I am [trying] to code"
   ]
  },
  {
   "cell_type": "code",
   "execution_count": 5,
   "id": "9d140186-1af2-4bc4-b3fc-ad857de1c3a0",
   "metadata": {},
   "outputs": [],
   "source": [
    "snakemake.input[0]"
   ]
  },
  {
   "cell_type": "code",
   "execution_count": 8,
   "id": "7184655c-341f-40a1-909e-434fd03149a2",
   "metadata": {},
   "outputs": [],
   "source": [
    "with open(snakemake.output[0], 'w') as f:\n",
    "    f.write('{}')"
   ]
  }
 ],
 "metadata": {
  "kernelspec": {
   "display_name": "Python 3 (ipykernel)",
   "language": "python",
   "name": "python3"
  },
  "language_info": {
   "codemirror_mode": {
    "name": "ipython",
    "version": 3
   },
   "file_extension": ".py",
   "mimetype": "text/x-python",
   "name": "python",
   "nbconvert_exporter": "python",
   "pygments_lexer": "ipython3",
   "version": "3.8.12"
  }
 },
 "nbformat": 4,
 "nbformat_minor": 5
}
